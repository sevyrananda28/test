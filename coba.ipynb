{
 "cells": [
  {
   "cell_type": "code",
   "execution_count": 1,
   "metadata": {},
   "outputs": [
    {
     "ename": "NameError",
     "evalue": "name 'Nama' is not defined",
     "output_type": "error",
     "traceback": [
      "\u001b[1;31m---------------------------------------------------------------------------\u001b[0m",
      "\u001b[1;31mNameError\u001b[0m                                 Traceback (most recent call last)",
      "Cell \u001b[1;32mIn[1], line 5\u001b[0m\n\u001b[0;32m      2\u001b[0m n  \u001b[39m=\u001b[39m (\u001b[39minput\u001b[39m(\u001b[39m\"\u001b[39m\u001b[39mMasukkan Nama : \u001b[39m\u001b[39m\"\u001b[39m))\n\u001b[0;32m      4\u001b[0m \u001b[39m#Menghitung jumlah huruf dari nama lengkap\u001b[39;00m\n\u001b[1;32m----> 5\u001b[0m jumlah_huruf \u001b[39m=\u001b[39m \u001b[39mlen\u001b[39m(Nama\u001b[39m.\u001b[39mreplace(\u001b[39m\"\u001b[39m\u001b[39m \u001b[39m\u001b[39m\"\u001b[39m,\u001b[39m\"\u001b[39m\u001b[39m\"\u001b[39m))\n\u001b[0;32m      6\u001b[0m \u001b[39mprint\u001b[39m(\u001b[39m\"\u001b[39m\u001b[39mJumlah Huruf Dari Nama\u001b[39m\u001b[39m\"\u001b[39m, n, \u001b[39m\"\u001b[39m\u001b[39madalah:\u001b[39m\u001b[39m\"\u001b[39m, jumlah_huruf)\n\u001b[0;32m      8\u001b[0m \u001b[39m# Menghitung jumlah huruf vokal dari nama lengkap\u001b[39;00m\n",
      "\u001b[1;31mNameError\u001b[0m: name 'Nama' is not defined"
     ]
    }
   ],
   "source": [
    "#Inputkan nama\n",
    "Nama  = (input(\"Masukkan Nama : \"))\n",
    "\n",
    "#Menghitung jumlah huruf dari nama lengkap\n",
    "jumlah_huruf = len(Nama.replace(\" \",\"\"))\n",
    "print(\"Jumlah Huruf Dari Nama\", n, \"adalah:\", jumlah_huruf)\n",
    "\n",
    "# Menghitung jumlah huruf vokal dari nama lengkap\n",
    "huruf_vokal = \"aiueoAIUEO\"\n",
    "jumlah_vokal = len([char for char in Nama if char in huruf_vokal])\n",
    "print(\"Jumlah Huruf Vokal Dari Nama\", n, \"adalah:\", jumlah_vokal)\n",
    "\n",
    "# Menghitung jumlah huruf konsonan dari nama lengkap\n",
    "huruf_konsonan = \"bcdfghjklmnpqrstvwxyzBCDFGHJKLMNPQRSTVWXYZ\"\n",
    "jumlah_konsonan = len([huruf for huruf in Nama if huruf in huruf_konsonan])\n",
    "\n",
    "#pakai (jumlah_konsonan = jumlah_huruf - jumlah vokal) juga bisa\n",
    "\n",
    "print(\"Jumlah Huruf Konsonan Dari Nama\", n, \"adalah:\", jumlah_konsonan)"
   ]
  },
  {
   "cell_type": "code",
   "execution_count": null,
   "metadata": {},
   "outputs": [],
   "source": []
  }
 ],
 "metadata": {
  "kernelspec": {
   "display_name": "Python 3",
   "language": "python",
   "name": "python3"
  },
  "language_info": {
   "codemirror_mode": {
    "name": "ipython",
    "version": 3
   },
   "file_extension": ".py",
   "mimetype": "text/x-python",
   "name": "python",
   "nbconvert_exporter": "python",
   "pygments_lexer": "ipython3",
   "version": "3.11.2"
  },
  "orig_nbformat": 4
 },
 "nbformat": 4,
 "nbformat_minor": 2
}
