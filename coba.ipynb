{
 "cells": [
  {
   "cell_type": "code",
   "execution_count": 2,
   "metadata": {},
   "outputs": [
    {
     "name": "stdout",
     "output_type": "stream",
     "text": [
      "Jumlah Huruf Dari Nama audrey adalah: 6\n",
      "Jumlah Huruf Vokal Dari Nama audrey adalah: 3\n",
      "Jumlah Huruf Konsonan Dari Nama audrey adalah: 3\n"
     ]
    }
   ],
   "source": [
    "#Inputkan nama\n",
    "Nama  = (input(\"Masukkan Nama : \"))\n",
    "\n",
    "#Menghitung jumlah huruf dari nama lengkap\n",
    "jumlah_huruf = len(Nama.replace(\" \",\"\"))\n",
    "print(\"Jumlah Huruf Dari Nama\", n, \"adalah:\", jumlah_huruf)\n",
    "\n",
    "# Menghitung jumlah huruf vokal dari nama lengkap\n",
    "huruf_vokal = \"aiueoAIUEO\"\n",
    "jumlah_vokal = len([char for char in Nama if char in huruf_vokal])\n",
    "print(\"Jumlah Huruf Vokal Dari Nama\", n, \"adalah:\", jumlah_vokal)\n",
    "\n",
    "# Menghitung jumlah huruf konsonan dari nama lengkap\n",
    "huruf_konsonan = \"bcdfghjklmnpqrstvwxyzBCDFGHJKLMNPQRSTVWXYZ\"\n",
    "jumlah_konsonan = len([huruf for huruf in Nama if huruf in huruf_konsonan])\n",
    "\n",
    "#pakai (jumlah_konsonan = jumlah_huruf - jumlah vokal) juga bisa\n",
    "\n",
    "print(\"Jumlah Huruf Konsonan Dari Nama\", n, \"adalah:\", jumlah_konsonan)"
   ]
  },
  {
   "cell_type": "code",
   "execution_count": null,
   "metadata": {},
   "outputs": [],
   "source": []
  }
 ],
 "metadata": {
  "kernelspec": {
   "display_name": "Python 3",
   "language": "python",
   "name": "python3"
  },
  "language_info": {
   "codemirror_mode": {
    "name": "ipython",
    "version": 3
   },
   "file_extension": ".py",
   "mimetype": "text/x-python",
   "name": "python",
   "nbconvert_exporter": "python",
   "pygments_lexer": "ipython3",
   "version": "3.11.2"
  },
  "orig_nbformat": 4
 },
 "nbformat": 4,
 "nbformat_minor": 2
}
